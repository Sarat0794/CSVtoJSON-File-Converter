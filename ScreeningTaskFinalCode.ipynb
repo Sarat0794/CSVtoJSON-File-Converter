{
 "cells": [
  {
   "cell_type": "markdown",
   "metadata": {},
   "source": [
    "# CSVtoJSON Converter"
   ]
  },
  {
   "cell_type": "code",
   "execution_count": 81,
   "metadata": {},
   "outputs": [],
   "source": [
    "# A fuction to convert CSV file to JSON file\n",
    "def csv_toJson(csv_path,json_path): # Parameters:csv file path and location where JSON file has to be stored, respectively. \n",
    "    \n",
    "    #Import essential libraries\n",
    "    import csv\n",
    "    import json\n",
    "    import pandas as pd\n",
    "\n",
    "    \n",
    "    # Reading data\n",
    "    data=pd.read_csv(csv_path, dtype=str)# \"dtype=str\":everything has to be str type which can be serialized to JSON.\n",
    "   \n",
    "    # create a dictionary \n",
    "    new_dict={}\n",
    "    \n",
    "    # splitting the dataset based on the given JSON format.\n",
    "    # Split-1\n",
    "    t1 = data.iloc[:,0:4]\n",
    "    new_dict = {k:list(t1[k].unique()) for k in t1.columns} # Keys: column names; values: datapoints(row values)\n",
    "    #------------------------------------------------------------------------------------------------------------------\n",
    "    # Policy Information\n",
    "    # Split-2\n",
    "    t2 =data.iloc[:,4:6]\n",
    "    new_dict[\"policyInformation\"]={k:list(t2[k].unique()) for k in t2.columns}\n",
    "    #------------------------------------------------------------------------------------------------------------------\n",
    "    # Policy Information: \"insuredPersonInformation\"\n",
    "    # Split-3\n",
    "    t3= data.iloc[:,6:7]\n",
    "    new_dict[\"policyInformation\"][\"insuredPersonInformation\"]={\"insuredPersonInformationList\":[{\"person\":[{k:list(t3[k].unique()) for k in t3.columns }]}]}\n",
    "    #------------------------------------------------------------------------------------------------------------------\n",
    "    # Policy Information: \"insuredPersonInformation\":\"insuredPersonInformationList\":'person':\"nameComponents\"\n",
    "    # Split-4\n",
    "    t4= data.iloc[:,7:10]\n",
    "    new_dict[\"policyInformation\"][\"insuredPersonInformation\"][\"insuredPersonInformationList\"][0][\"person\"][0][\"nameComponents\"]={k:list(t4[k].unique()) for k in t4.columns }\n",
    "    #------------------------------------------------------------------------------------------------------------------\n",
    "    # Policy Information: \"insuredPersonInformation\":\"insuredPersonInformationList\":'person':\"primaryAddress\"\n",
    "    # Split-5\n",
    "    t5= data.iloc[:,10:14]\n",
    "    #new_dict[\"policyInformation\"][\"insuredPersonInformation\"][\"insuredPersonInformationList\"][0]['person'].append(\"primaryAddress\")\n",
    "    new_dict[\"policyInformation\"][\"insuredPersonInformation\"][\"insuredPersonInformationList\"][0][\"person\"][0][\"primaryAddress\"]={k:list(t5[k].unique()) for k in t5.columns }\n",
    "    #------------------------------------------------------------------------------------------------------------------\n",
    "    # Policy Information: \"insuredPersonInformation\":\"insuredPersonInformationList\":\"insuredCoverages\":\"insuredCoverage\"\n",
    "    # Split-6\n",
    "    t6= data.iloc[:,14:16]\n",
    "    new_dict[\"policyInformation\"][\"insuredPersonInformation\"][\"insuredPersonInformationList\"][0][\"insuredCoverages\"]={\"insuredCoverage\":[{k:list(t6[k].unique()) for k in t6.columns }]}\n",
    "    #------------------------------------------------------------------------------------------------------------------\n",
    "    # Policy Information: \"insuredPersonInformation\":\"insuredPersonInformationList\":\"insuredCoverages\":\"insuredCoverage\":\"planCode\"\n",
    "    # Split-7\n",
    "    t7= data.iloc[:,16:17]\n",
    "    new_dict[\"policyInformation\"][\"insuredPersonInformation\"][\"insuredPersonInformationList\"][0][\"insuredCoverages\"][\"insuredCoverage\"][0][\"planCode\"]={k:list(t7[k].unique()) for k in t7.columns }\n",
    "    #------------------------------------------------------------------------------------------------------------------\n",
    "    # Policy Information: \"insuredPersonInformation\":\"insuredPersonInformationList\":\"insuredCoverages\":\"insuredCoverage\"\n",
    "    # Split-8\n",
    "    t8= data.iloc[:,17:20]\n",
    "    new_dict[\"policyInformation\"][\"insuredPersonInformation\"][\"insuredPersonInformationList\"][0][\"insuredCoverages\"][\"insuredCoverage\"].append({k:list(t8[k].unique()) for k in t8.columns})\n",
    "    #------------------------------------------------------------------------------------------------------------------\n",
    "    # Policy Information: \"insuredPersonInformation\":\"insuredPersonInformationList\":\"insuredCoverages\":\"insuredCoverage\":\"sumTotalCoverageAmount\"\n",
    "    # Split-9\n",
    "    t9= data.iloc[:,20:21]\n",
    "    new_dict[\"policyInformation\"][\"insuredPersonInformation\"][\"insuredPersonInformationList\"][0][\"insuredCoverages\"][\"insuredCoverage\"][0][\"sumTotalCoverageAmount\"]={k:list(t9[k].unique()) for k in t9.columns }\n",
    "    #------------------------------------------------------------------------------------------------------------------\n",
    "    # Policy Information: \"insuredPersonInformation\":\"insuredPersonInformationList\":\"insuredCoverages\":\"insuredCoverage\"\n",
    "    # Split-10\n",
    "    t10= data.iloc[:,21:]\n",
    "    new_dict[\"policyInformation\"][\"insuredPersonInformation\"][\"insuredPersonInformationList\"][0][\"insuredCoverages\"][\"insuredCoverage\"].append({k:list(t10[k].unique()) for k in t10.columns})\n",
    "    \n",
    "    # Saving the output to JSON File. \n",
    "    def set_default(obj):\n",
    "        if isinstance(obj, set):\n",
    "            return list(obj)\n",
    "        raise TypeError\n",
    "    # function to dump data \n",
    "    with open(json_path, 'w', encoding='utf-8') as jsonf: \n",
    "        jsonf.write(json.dumps(new_dict, default=set_default,indent=4)) # Saving output as JSON file"
   ]
  },
  {
   "cell_type": "code",
   "execution_count": 82,
   "metadata": {},
   "outputs": [],
   "source": [
    "csv_toJson(r'C:\\\\Users\\\\banak\\\\Desktop\\\\quoterequest_rec.csv',r'C:\\\\Users\\\\banak\\\\Desktop\\\\Output.json')"
   ]
  },
  {
   "cell_type": "code",
   "execution_count": null,
   "metadata": {},
   "outputs": [],
   "source": []
  }
 ],
 "metadata": {
  "kernelspec": {
   "display_name": "Python 3",
   "language": "python",
   "name": "python3"
  },
  "language_info": {
   "codemirror_mode": {
    "name": "ipython",
    "version": 3
   },
   "file_extension": ".py",
   "mimetype": "text/x-python",
   "name": "python",
   "nbconvert_exporter": "python",
   "pygments_lexer": "ipython3",
   "version": "3.7.4"
  }
 },
 "nbformat": 4,
 "nbformat_minor": 2
}
